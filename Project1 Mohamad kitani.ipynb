{
 "cells": [
  {
   "cell_type": "code",
   "execution_count": 1,
   "id": "8524bd4d",
   "metadata": {},
   "outputs": [
    {
     "name": "stdout",
     "output_type": "stream",
     "text": [
      "Runtime using the timer decorator= 0.007855100004235283\n",
      "Runtime using the timeit module= 1.3199998647905886e-05\n"
     ]
    }
   ],
   "source": [
    "import time\n",
    "import functools\n",
    "def timer(func):\n",
    "    @functools.wraps(func)\n",
    "    def wrapper(*args,**kwargs):\n",
    "        old_value=time.perf_counter()\n",
    "        result=func(*args,**kwargs)\n",
    "        new_value=time.perf_counter()\n",
    "        runTime=new_value-old_value\n",
    "        print(\"Runtime using the timer decorator= {}\".format(runTime))\n",
    "        return result\n",
    "    return wrapper\n",
    "\n",
    "@timer\n",
    "def waste_some_time(num_times):\n",
    "    for _ in range(num_times):\n",
    "        sum([i**2 for i in range(200)])\n",
    "waste_some_time(100)\n",
    "\n",
    "\n",
    "import timeit\n",
    "code='''\n",
    "def waste_some_time(num_times):\n",
    "    for _ in range(num_times):\n",
    "        sum([i**2 for i in range(200)])\n",
    "'''\n",
    "print(\"Runtime using the timeit module=\",timeit.timeit(stmt=code,number=100))"
   ]
  },
  {
   "cell_type": "markdown",
   "id": "47e0ec56",
   "metadata": {},
   "source": [
    "In general, the timeit module is faster than implementing a timer decorator since the it uses a more accurate mechanism \n",
    "and runs the specified code multiple time and takes the average time taken. Meaning that it reduces any other effects \n",
    "that might alter the timing. However, the timer decorator takes the time taken for a single run of the code, so it is \n",
    "more vulnerable to effects of other factors which makes it less accurate."
   ]
  },
  {
   "cell_type": "code",
   "execution_count": 6,
   "id": "aee038cb",
   "metadata": {},
   "outputs": [
    {
     "name": "stdout",
     "output_type": "stream",
     "text": [
      "New student registration:\n",
      "Name: ali\n",
      "Age: 20\n",
      "ID: 12099100\n",
      "New student registration:\n",
      "Name: mohamad\n",
      "Age: 22\n",
      "ID: 12115142\n",
      "True\n",
      "False\n",
      "Student name: Sara and been a student in our university for: 3 years and carries the id: 12099100\n"
     ]
    }
   ],
   "source": [
    "from datetime import date as dt\n",
    "class student:\n",
    "    def __init__(self,name,age,id):\n",
    "        self.name=name\n",
    "        self.age=age\n",
    "        self.id=id\n",
    "        print(\"New student registration:\\nName: {}\\nAge: {}\\nID: {}\".format(self.name,self.age,self.id))\n",
    "    @staticmethod\n",
    "    def underGrad(age):\n",
    "        if age<18:\n",
    "            return True\n",
    "        else:\n",
    "            return False\n",
    "    @classmethod\n",
    "    def studentSince(cls,name,year,id):\n",
    "        print(\"\"\"Student name: {} and been a student in our university for: {} years and carries the id: {}\"\"\".format(name,dt.today().year - year,id))\n",
    "\n",
    "s1=student(\"ali\",20,12099100)\n",
    "s2=student(\"mohamad\",22,12115142)\n",
    "\n",
    "print(student.underGrad(17))\n",
    "print(student.underGrad(20))\n",
    "\n",
    "student.studentSince(\"Sara\",2020,12099100)"
   ]
  },
  {
   "cell_type": "markdown",
   "id": "cb02138d",
   "metadata": {},
   "source": [
    "Basically, both the static and class methods are considered part of the classes in python but not objects of the class. \n",
    "To use any of them we should include a specific decorator for each one before we implement the code we want. In class methods,\n",
    "it takes the class as the first argument to modify the class state and know about it, and the @classmethod decorator should be\n",
    "included. However, the static method doesn’t have any specific parameters and cannot access or modify the class state and \n",
    "doesn’t know about its state but we also need to include a specific decorator @staticmethod. even when excuting a simple code \n",
    "that prints out the word \"Hello\", we can notice the difference in timing."
   ]
  },
  {
   "cell_type": "code",
   "execution_count": 7,
   "id": "9c3559fb",
   "metadata": {},
   "outputs": [
    {
     "name": "stdout",
     "output_type": "stream",
     "text": [
      "e\n"
     ]
    }
   ],
   "source": [
    "def unique(s):\n",
    "    s=s.replace(\" \",\"\")\n",
    "    s=s.lower()\n",
    "    myDict={}\n",
    "    for i in s:\n",
    "        if i not in myDict:\n",
    "            myDict[i]=1\n",
    "        else:\n",
    "            myDict[i]+=1\n",
    "    for i in myDict:\n",
    "        if myDict[i]==1:\n",
    "            return i\n",
    "print(unique(\"Name naMag\"))"
   ]
  }
 ],
 "metadata": {
  "kernelspec": {
   "display_name": "Python 3 (ipykernel)",
   "language": "python",
   "name": "python3"
  },
  "language_info": {
   "codemirror_mode": {
    "name": "ipython",
    "version": 3
   },
   "file_extension": ".py",
   "mimetype": "text/x-python",
   "name": "python",
   "nbconvert_exporter": "python",
   "pygments_lexer": "ipython3",
   "version": "3.10.9"
  }
 },
 "nbformat": 4,
 "nbformat_minor": 5
}
